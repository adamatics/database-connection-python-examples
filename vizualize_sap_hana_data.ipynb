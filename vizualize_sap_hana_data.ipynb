{
 "cells": [
  {
   "cell_type": "markdown",
   "id": "64b44277-22e4-4fc8-9e90-799ed7a4d1ce",
   "metadata": {},
   "source": [
    "# Interactive exploration of SAP HANA flights data\n",
    "This app provides a light-weight view of data in a SAP HANA database containing flight data (the SFLIGHT data). The data is stored in a normalized data model, meaning that each table pertains to a single aspect of flight bookings. \n",
    "\n",
    "This app allows you to sanity-check the data stored in the tables in the SAP HANA database and explore the data. \n",
    "\n",
    "The app is split into the following sections:\n",
    "1. Select the table you want to explore from the SFLIGHT database.\n",
    "2. View statistics of the selected table.\n",
    "3. Select a column of interest in the selected table and view the distribution of values in that column as a pie chart.\n",
    "4. Select a column of interest containing numeric values and a categorical column to generate a box plot showing the numeric column values as a box plot for each category.\n",
    "\n",
    "Some business insight questions that can be answered via this app are:\n",
    "- Which carrier types yield highest ticket prices? (Use the SFLIGHT table and the carrid and price columns.)\n",
    "- Which carrier types have most seats on e.g. economy class? (Use the SFLIGHT table and the carrid and seatsmax columns.)\n",
    "- How much cargo can the different cargo types carry? (Use the SCPLANE table and the planetype and cargomax columns.)\n",
    "- Which travel agency makes most bookings? (Use the SBOOK table and the agencynum column.)\n",
    "- Where do customers reside? (Use the SCUSTOM table and the country or city column.)"
   ]
  },
  {
   "cell_type": "code",
   "execution_count": null,
   "id": "caf7f21b-bb06-421f-b4d1-03e9b5886081",
   "metadata": {
    "tags": []
   },
   "outputs": [],
   "source": [
    "from functools import partial\n",
    "\n",
    "import sqlalchemy_hana\n",
    "from sqlalchemy import create_engine\n",
    "from sqlalchemy import text\n",
    "\n",
    "import pandas as pd\n",
    "\n",
    "import ipywidgets as widgets\n",
    "import plotly.express as px\n",
    "\n",
    "import configparser\n",
    "\n",
    "from hdbcli import dbapi"
   ]
  },
  {
   "cell_type": "code",
   "execution_count": null,
   "id": "73ac8ac8-9e3a-4a84-af75-a99d0d0df04d",
   "metadata": {
    "tags": []
   },
   "outputs": [],
   "source": [
    "config = configparser.ConfigParser()\n",
    "config.read(\"credentials/config.txt\")\n",
    "pw = config[\"sap_hana\"][\"password\"]\n",
    "user = config[\"sap_hana\"][\"username\"]\n",
    "host = config[\"sap_hana\"][\"host\"]"
   ]
  },
  {
   "cell_type": "code",
   "execution_count": null,
   "id": "a9ebce12-1deb-4a02-aa85-fee15f725350",
   "metadata": {
    "tags": []
   },
   "outputs": [],
   "source": [
    "from IPython.display import display, HTML\n",
    "\n",
    "display(HTML(\"<style>.jp-OutputArea-output {display:flex}</style>\"))"
   ]
  },
  {
   "cell_type": "code",
   "execution_count": null,
   "id": "f022dc77-8921-45e2-bab3-00fbf83944d3",
   "metadata": {
    "tags": []
   },
   "outputs": [],
   "source": [
    "engine = create_engine(\n",
    "    f\"hana://{user}:{pw}@{host}:443\",\n",
    "    echo=False,\n",
    "    future=True,\n",
    ")"
   ]
  },
  {
   "cell_type": "code",
   "execution_count": null,
   "id": "d0d185e3-e9ee-495a-88b3-d1b3db70b824",
   "metadata": {
    "tags": []
   },
   "outputs": [],
   "source": [
    "try:\n",
    "    with engine.begin() as conn:\n",
    "        tables_df = pd.read_sql(text(\"SELECT TABLE_NAME FROM SYS.M_TABLES where schema_name='SFLIGHT'\"), conn)\n",
    "except DBAPIError as e:\n",
    "    print(\n",
    "        \"\".join(\n",
    "            [\n",
    "                \"Engine connection did not succeed.\",\n",
    "                \" This is likely due to the SAP HANA database not running or your SAP HANA database not allowing incoming traffic from your IP address.\",\n",
    "                \" Go to SAP HANA Cloud and find the relevant instance to start it or configure allowed inbound traffic.\",\n",
    "            ]\n",
    "        )\n",
    "    )"
   ]
  },
  {
   "cell_type": "markdown",
   "id": "ad721b8f-f1e3-4b46-b04e-81fcb32dd0eb",
   "metadata": {},
   "source": [
    "## Select the table to inspect"
   ]
  },
  {
   "cell_type": "code",
   "execution_count": null,
   "id": "59678bc9-2bd0-445c-9599-49ee88b0f28d",
   "metadata": {},
   "outputs": [],
   "source": [
    "table_selector = widgets.Dropdown(\n",
    "    options=tables_df[\"table_name\"],\n",
    "    value=tables_df[\"table_name\"][0],\n",
    "    disabled=False,\n",
    ")\n",
    "\n",
    "table_selector_label = widgets.Label(\"Table to inspect:\")\n",
    "\n",
    "widgets.HBox([table_selector_label, table_selector])"
   ]
  },
  {
   "cell_type": "code",
   "execution_count": null,
   "id": "bf6d5c20-7f50-4de2-a9a6-291f61cd27c5",
   "metadata": {
    "tags": []
   },
   "outputs": [],
   "source": [
    "def get_selected_table(table_selector, engine, widg_response=None):\n",
    "    with engine.begin() as conn:\n",
    "        df_selected_table = pd.read_sql(text(f\"select * from sflight.{table_selector.value}\"), conn)\n",
    "    return df_selected_table\n",
    "\n",
    "\n",
    "def get_selected_table_top(table_selector, engine, top=10):\n",
    "    with engine.begin() as conn:\n",
    "        df_selected_table = pd.read_sql(\n",
    "            text(f\"select * from (select top {top} * from sflight.{table_selector.value}) as t\"), conn\n",
    "        )\n",
    "    return df_selected_table"
   ]
  },
  {
   "cell_type": "code",
   "execution_count": null,
   "id": "5cb0c599-19ca-4b2c-823f-4885253b8972",
   "metadata": {
    "tags": []
   },
   "outputs": [],
   "source": [
    "def show_selected_table_head(table_selector, engine, output, widg_response=None):\n",
    "    output.clear_output()\n",
    "    df = get_selected_table_top(table_selector, engine)\n",
    "    df_head = df.head()\n",
    "    with output:\n",
    "        display(df_head)\n",
    "        output.df_head = df_head"
   ]
  },
  {
   "cell_type": "code",
   "execution_count": null,
   "id": "8dd30513-5728-4601-8e7d-8b40cc94a413",
   "metadata": {
    "tags": []
   },
   "outputs": [],
   "source": [
    "class CurrentTable:\n",
    "    def __init__(self, table_selector, engine):\n",
    "        self.table_selector = table_selector\n",
    "        self.engine = engine\n",
    "        self.df = None\n",
    "        self.table_name = table_selector.value\n",
    "\n",
    "    def update_df(self):\n",
    "        if (self.table_name != self.table_selector.value) or (self.df is None):\n",
    "            self.df = get_selected_table(self.table_selector, self.engine)\n",
    "            self.table_name = table_selector.value"
   ]
  },
  {
   "cell_type": "code",
   "execution_count": null,
   "id": "3e43634b-fc7b-40be-8c40-17ec78839095",
   "metadata": {
    "tags": []
   },
   "outputs": [],
   "source": [
    "def show_stats_for_selected_table(current_table, output, widg_response=None):\n",
    "    output.clear_output()\n",
    "    with output:\n",
    "        print(\"Retrieving data\")\n",
    "        current_table.update_df()\n",
    "        output.clear_output()\n",
    "        display(current_table.df.describe(include=\"all\"))"
   ]
  },
  {
   "cell_type": "code",
   "execution_count": null,
   "id": "880ea2b7-4d95-42a9-820d-2ae0e358660a",
   "metadata": {
    "tags": []
   },
   "outputs": [],
   "source": [
    "current_table = CurrentTable(table_selector, engine)"
   ]
  },
  {
   "cell_type": "code",
   "execution_count": null,
   "id": "13464c58-10f9-416d-87f1-2f81fc7f0175",
   "metadata": {
    "tags": []
   },
   "outputs": [],
   "source": [
    "df_head_output = widgets.Output()\n",
    "df_stats_output = widgets.Output()"
   ]
  },
  {
   "cell_type": "code",
   "execution_count": null,
   "id": "a7a2d910-ee29-46cf-8e7f-d2eedcf00521",
   "metadata": {
    "tags": []
   },
   "outputs": [],
   "source": [
    "table_selector.observe(partial(show_selected_table_head, table_selector, engine, df_head_output), names=\"value\")\n",
    "table_selector.observe(partial(lambda output, widg: output.clear_output(), df_stats_output), names=\"value\")"
   ]
  },
  {
   "cell_type": "markdown",
   "id": "91657fdb-143f-464b-a39e-7473cf20806d",
   "metadata": {},
   "source": [
    "### View first rows of table"
   ]
  },
  {
   "cell_type": "code",
   "execution_count": null,
   "id": "345a52d2-60d4-4f08-aab1-d79eb56f8239",
   "metadata": {
    "tags": []
   },
   "outputs": [],
   "source": [
    "show_selected_table_head(table_selector, engine, df_head_output)"
   ]
  },
  {
   "cell_type": "code",
   "execution_count": null,
   "id": "d7ccc7a4-d992-4a9a-b3e6-eb0bb589066b",
   "metadata": {
    "tags": []
   },
   "outputs": [],
   "source": [
    "display(df_head_output)"
   ]
  },
  {
   "cell_type": "markdown",
   "id": "49787201-7c36-43bb-b57b-bf3fb85440bf",
   "metadata": {},
   "source": [
    "## Retrieve data and view descriptive statistics\n",
    "Click the below button to retrieve all the available data if you are happy with the selected table based on the first few rows. This will also show statistics for the selected table.\n",
    "\n",
    "Note that, for large tables, this can take some time."
   ]
  },
  {
   "cell_type": "code",
   "execution_count": null,
   "id": "f6deb843-5ca3-4e60-8649-679592e48208",
   "metadata": {
    "tags": []
   },
   "outputs": [],
   "source": [
    "layout = widgets.Layout(width=\"auto\", height=\"40px\")\n",
    "retrieve_data_button = widgets.Button(description=\"Retrieve all data and view statistics\", layout=layout)\n",
    "retrieve_data_button.on_click(partial(show_stats_for_selected_table, current_table, df_stats_output))\n",
    "display(retrieve_data_button)"
   ]
  },
  {
   "cell_type": "code",
   "execution_count": null,
   "id": "8c3e843e-ae5b-42a8-b1c3-5b24369a2552",
   "metadata": {
    "tags": []
   },
   "outputs": [],
   "source": [
    "display(df_stats_output)"
   ]
  },
  {
   "cell_type": "markdown",
   "id": "dd5dfd0c-04f6-4f89-a206-8737d2750f0f",
   "metadata": {},
   "source": [
    "## Visualize data"
   ]
  },
  {
   "cell_type": "markdown",
   "id": "5802c2db-cc9e-4bb4-b98b-fe6f98c5c2b0",
   "metadata": {},
   "source": [
    "### Pie chart\n",
    "Select a column for which to view the distribution of values. You can explore the different columns in the selected table."
   ]
  },
  {
   "cell_type": "code",
   "execution_count": null,
   "id": "2dc003ab-6de9-4c85-9a47-4ecb4609c8ba",
   "metadata": {
    "tags": []
   },
   "outputs": [],
   "source": [
    "class ColumnSelector:\n",
    "    def __init__(self, df_head_output_field, label_text=\"Column to visualize:\"):\n",
    "        self.df_head_output_field = df_head_output_field\n",
    "        self.label_text = label_text\n",
    "        self.selector = widgets.Dropdown(\n",
    "            options=self.df_head_output_field.df_head.columns,\n",
    "            value=self.df_head_output_field.df_head.columns[0],\n",
    "            disabled=False,\n",
    "        )\n",
    "\n",
    "    def update_column_selector(self):\n",
    "        self.selector = widgets.Dropdown(\n",
    "            options=self.df_head_output_field.df_head.columns,\n",
    "            value=self.df_head_output_field.df_head.columns[0],\n",
    "            disabled=False,\n",
    "        )\n",
    "\n",
    "    def display_in_output(self, output, widget_obj=None):\n",
    "        self.update_column_selector()\n",
    "        with output:\n",
    "            output.clear_output()\n",
    "            column_selector_label = widgets.Label(self.label_text)\n",
    "            display(widgets.HBox([column_selector_label, self.selector]))"
   ]
  },
  {
   "cell_type": "code",
   "execution_count": null,
   "id": "f10349b9-9802-4194-9976-0fcfd42b8f7e",
   "metadata": {
    "tags": []
   },
   "outputs": [],
   "source": [
    "column_selector_output = widgets.Output()\n",
    "column_selector = ColumnSelector(df_head_output)\n",
    "column_selector.display_in_output(column_selector_output)\n",
    "table_selector.observe(partial(column_selector.display_in_output, column_selector_output), names=\"value\")\n",
    "\n",
    "display(column_selector_output)"
   ]
  },
  {
   "cell_type": "code",
   "execution_count": null,
   "id": "3c0ff407-6e52-4e26-9f56-f2d4b04d1617",
   "metadata": {
    "tags": []
   },
   "outputs": [],
   "source": [
    "pie_output = widgets.Output()\n",
    "\n",
    "\n",
    "def show_pie_chart(current_table, column_selector, output, widg_obj=None):\n",
    "    with output:\n",
    "        output.clear_output()\n",
    "        current_table.update_df()\n",
    "        value_counts = current_table.df[column_selector.selector.value].value_counts()\n",
    "\n",
    "        fig = px.pie(\n",
    "            names=value_counts.index,\n",
    "            values=value_counts.to_numpy(),\n",
    "            title=f\"Counts of values in {column_selector.selector.value}\",\n",
    "        )\n",
    "        fig.show()"
   ]
  },
  {
   "cell_type": "code",
   "execution_count": null,
   "id": "921b5cf7-afcb-4195-84e2-f582d2a6e053",
   "metadata": {
    "tags": []
   },
   "outputs": [],
   "source": [
    "table_selector.observe(partial(lambda output, widg: output.clear_output(), pie_output), names=\"value\")\n",
    "pie_chart_button = widgets.Button(description=\"Generate pie chart\", layout=layout)\n",
    "pie_chart_button.on_click(partial(show_pie_chart, current_table, column_selector, pie_output))\n",
    "display(pie_chart_button)"
   ]
  },
  {
   "cell_type": "code",
   "execution_count": null,
   "id": "5d072a92-830e-4d7c-b43e-7a7a50274b52",
   "metadata": {
    "tags": []
   },
   "outputs": [],
   "source": [
    "display(pie_output)"
   ]
  },
  {
   "cell_type": "markdown",
   "id": "39342134-91a0-4668-832e-626612d80cb6",
   "metadata": {
    "tags": []
   },
   "source": [
    "## Box plot\n",
    "To understand historical relationships between a numeric value of interest and it's distribution for different categories, select the relevant columns below and generate a box plot."
   ]
  },
  {
   "cell_type": "code",
   "execution_count": null,
   "id": "b0567e7c-b403-4009-9b24-6add19986e84",
   "metadata": {
    "tags": []
   },
   "outputs": [],
   "source": [
    "column_selector_x_output = widgets.Output()\n",
    "column_selector_x = ColumnSelector(df_head_output, label_text=\"Category to group by:\")\n",
    "column_selector_x.display_in_output(column_selector_x_output)\n",
    "table_selector.observe(partial(column_selector_x.display_in_output, column_selector_x_output), names=\"value\")\n",
    "\n",
    "display(column_selector_x_output)"
   ]
  },
  {
   "cell_type": "code",
   "execution_count": null,
   "id": "97a2c68c-d124-41cb-bb98-068aca170c98",
   "metadata": {
    "tags": []
   },
   "outputs": [],
   "source": [
    "column_selector_y_output = widgets.Output()\n",
    "column_selector_y = ColumnSelector(df_head_output, label_text=\"Numeric variable of interest:\")\n",
    "column_selector_y.display_in_output(column_selector_y_output)\n",
    "table_selector.observe(partial(column_selector_y.display_in_output, column_selector_y_output), names=\"value\")\n",
    "\n",
    "display(column_selector_y_output)"
   ]
  },
  {
   "cell_type": "code",
   "execution_count": null,
   "id": "a857feee-a013-477c-b2f8-587d30bcfd9b",
   "metadata": {
    "tags": []
   },
   "outputs": [],
   "source": [
    "boxplot_output = widgets.Output()\n",
    "\n",
    "\n",
    "def show_boxplot(current_table, column_selector_x, column_selector_y, output, widg_obj=None):\n",
    "    with output:\n",
    "        output.clear_output()\n",
    "        current_table.update_df()\n",
    "\n",
    "        fig = px.box(current_table.df, x=column_selector_x.selector.value, y=column_selector_y.selector.value)\n",
    "        fig.show()"
   ]
  },
  {
   "cell_type": "code",
   "execution_count": null,
   "id": "b49ff6d8-3ee8-4241-b2ab-0aa3916db89e",
   "metadata": {
    "tags": []
   },
   "outputs": [],
   "source": [
    "table_selector.observe(partial(lambda output, widg: output.clear_output(), pie_output), names=\"value\")\n",
    "boxplot_button = widgets.Button(description=\"Generate boxplot\", layout=layout)\n",
    "boxplot_button.on_click(partial(show_boxplot, current_table, column_selector_x, column_selector_y, boxplot_output))\n",
    "display(boxplot_button)"
   ]
  },
  {
   "cell_type": "code",
   "execution_count": null,
   "id": "b0fc3a4b-1e9e-4e2c-8900-74ff29afc82c",
   "metadata": {
    "tags": []
   },
   "outputs": [],
   "source": [
    "display(boxplot_output)"
   ]
  }
 ],
 "metadata": {
  "kernelspec": {
   "display_name": "saphana-python:1.0 (containerized)",
   "language": "",
   "name": "kp65"
  },
  "language_info": {
   "codemirror_mode": {
    "name": "ipython",
    "version": 3
   },
   "file_extension": ".py",
   "mimetype": "text/x-python",
   "name": "python",
   "nbconvert_exporter": "python",
   "pygments_lexer": "ipython3",
   "version": "3.10.13"
  }
 },
 "nbformat": 4,
 "nbformat_minor": 5
}
